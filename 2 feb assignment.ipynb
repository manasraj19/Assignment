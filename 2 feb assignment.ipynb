{
 "cells": [
  {
   "cell_type": "code",
   "execution_count": null,
   "id": "715e47c5-d49c-4bc7-b1b9-e4954eae0863",
   "metadata": {},
   "outputs": [],
   "source": [
    "Ques:-1 Explain with an example each when to use a for loop and a while loop.\n",
    "Ans:- For loop: In Python, the for loop is used to run a block of code for a certain number of times.\n",
    "      It is used to iterate over any sequences such as list, tuple, string, dictionary  etc.\n",
    "    \n",
    "      While loop: In Python while loop is used to run a block code until a certain condition is met.\n",
    "        Here are the conditions.\n",
    "        1.A while loop evaluates the condition\n",
    "        2.If the condition evaluates to True, the code inside the while loop is executed.\n",
    "        3.condition is evaluated again.\n",
    "        4.This process continues until the condition is False.\n",
    "        5.When condition evaluates to False, the loop stops.\n",
    "\n",
    "        Syntax of loops\n",
    "        For loop: for \n",
    "        While loop: while\n",
    "        \n",
    "        When to use for loop and when to while loop:\n",
    "        1. Use a for loop to iterate over an array.\n",
    "        2. Use a for loop when you know the loop should execute n times.\n",
    "        3. Use a while loop for reading a file into a variable.\n",
    "        4. Use a while loop when asking for user input.\n",
    "        5. Use a while loop when the increment value is nonstandard.\n",
    "        \n",
    "        here are some examples of loops in next cells:\n",
    "        for loop cell number 13;\n",
    "        while loop cell number 14;\n",
    "        \n",
    "    \n",
    "    \n",
    "    \n",
    "    "
   ]
  },
  {
   "cell_type": "code",
   "execution_count": null,
   "id": "363b6bca-2d1b-4a86-a581-94b5f2789da7",
   "metadata": {},
   "outputs": [
    {
     "name": "stdout",
     "output_type": "stream",
     "text": [
      "red\n",
      "green\n",
      "blue\n",
      "black\n",
      "yellow\n",
      "g\n",
      "r\n",
      "e\n",
      "e\n",
      "n\n"
     ]
    }
   ],
   "source": [
    "#iterate through list\n",
    "colors = [\"red\",\"green\",\"blue\",\"black\",\"yellow\"]\n",
    "for x in colors:\n",
    "    print(x)\n",
    "\n",
    "#iterate through a string\n",
    "i = \"green\"\n",
    "for x in i:\n",
    "    print(x)\n",
    "\n"
   ]
  },
  {
   "cell_type": "code",
   "execution_count": 14,
   "id": "fea75034-f9d8-4f96-9607-c7080dd19954",
   "metadata": {},
   "outputs": [
    {
     "name": "stdout",
     "output_type": "stream",
     "text": [
      "1\n",
      "2\n",
      "3\n",
      "4\n",
      "5\n"
     ]
    }
   ],
   "source": [
    "i = 1\n",
    "while i < 6:\n",
    "  print(i)\n",
    "  i += 1"
   ]
  },
  {
   "cell_type": "code",
   "execution_count": null,
   "id": "a0b16b7a-9eaf-4ae0-aece-1d38681857e4",
   "metadata": {},
   "outputs": [],
   "source": [
    "Ques:-2 Write a python program to print the sum and product of the first 10 natural numbers using for\n",
    "and while loop.\n",
    "\n",
    "Ans:- Sum of first 10 natural number using for loop and while loop ( answer in cell number 19:)\n",
    "      Product of first 10 natural number using for loop and while loop ( answer in cell number 27:)\n",
    "      "
   ]
  },
  {
   "cell_type": "code",
   "execution_count": 19,
   "id": "9399b511-5dbc-4bef-8efa-ea444a8882db",
   "metadata": {},
   "outputs": [
    {
     "name": "stdout",
     "output_type": "stream",
     "text": [
      "The sum of first 10 natural numbers is 55\n",
      "The sum of first 10 natural numbers is 55\n"
     ]
    }
   ],
   "source": [
    "num = int(10)\n",
    "sum = 0\n",
    "for value in range(1, num + 1):\n",
    "    sum = sum + value\n",
    "print(\"The sum of first 10 natural numbers is\", sum)\n",
    "\n",
    "n=int(10)\n",
    "sum1 = 0\n",
    "while(n > 0):\n",
    "    sum1=sum1+n\n",
    "    n=n-1\n",
    "print(\"The sum of first 10 natural numbers is\",sum1)"
   ]
  },
  {
   "cell_type": "code",
   "execution_count": 27,
   "id": "7960aac9-cf24-4598-b562-1e6fe7fb604b",
   "metadata": {},
   "outputs": [
    {
     "name": "stdout",
     "output_type": "stream",
     "text": [
      "The product of the first 10 natural numbers is: 3628800\n",
      "The product of the first 10 natural numbers is: 3628800\n"
     ]
    }
   ],
   "source": [
    "product = 1\n",
    "i = 1\n",
    "\n",
    "while i <= 10:\n",
    "    product *= i\n",
    "    i += 1\n",
    "\n",
    "print(\"The product of the first 10 natural numbers is:\", product)\n",
    "\n",
    "\n",
    "\n",
    "product = 1\n",
    "\n",
    "for i in range(1, 11):\n",
    "    product *= i\n",
    "\n",
    "print(\"The product of the first 10 natural numbers is:\", product)"
   ]
  },
  {
   "cell_type": "code",
   "execution_count": null,
   "id": "e92f21b4-25a1-4d03-a7e9-207c2d0a2d89",
   "metadata": {},
   "outputs": [],
   "source": [
    "Ques:-3 Create a python program to compute the electricity bill for a household.\n",
    "The per-unit charges in rupees are as follows: For the first 100 units, the user will be charged Rs. 4.5 per\n",
    "unit, for the next 100 units, the user will be charged Rs. 6 per unit, and for the next 100 units, the user will\n",
    "be charged Rs. 10 per unit, After 300 units and above the user will be charged Rs. 20 per unit.\n",
    "You are required to take the units of electricity consumed in a month from the user as input.\n",
    "Your program must pass this test case: when the unit of electricity consumed by the user in a month is\n",
    "310, the total electricity bill should be 2250.\n",
    "\n",
    "Ans:- The answer of above question is in cell number 28:"
   ]
  },
  {
   "cell_type": "code",
   "execution_count": 28,
   "id": "2cdba6fb-906f-42aa-83a8-8144a7fb0c5d",
   "metadata": {},
   "outputs": [
    {
     "name": "stdin",
     "output_type": "stream",
     "text": [
      "Enter the number of units consumed:  310\n"
     ]
    },
    {
     "name": "stdout",
     "output_type": "stream",
     "text": [
      "The total electricity bill is: Rs. 2250.0\n"
     ]
    }
   ],
   "source": [
    "def electricity_bill(units):\n",
    "    charges = 0\n",
    "    if units <= 100:\n",
    "        charges = units * 4.5\n",
    "    elif units <= 200:\n",
    "        charges = 100 * 4.5 + (units - 100) * 6\n",
    "    elif units <= 300:\n",
    "        charges = 100 * 4.5 + 100 * 6 + (units - 200) * 10\n",
    "    else:\n",
    "        charges = 100 * 4.5 + 100 * 6 + 100 * 10 + (units - 300) * 20\n",
    "    return charges\n",
    "\n",
    "units = int(input(\"Enter the number of units consumed: \"))\n",
    "print(\"The total electricity bill is: Rs.\", electricity_bill(units))"
   ]
  },
  {
   "cell_type": "code",
   "execution_count": null,
   "id": "1505c8e9-7860-4f71-8f3a-1f199b0e1d13",
   "metadata": {},
   "outputs": [],
   "source": [
    "Ques:-4 Create a list of numbers from 1 to 100. Use for loop and while loop to calculate the cube of each\n",
    "number and if the cube of that number is divisible by 4 or 5 then append that number in a list and print\n",
    "that list.\n",
    "\n",
    "Ans:- The answer of above question is in cell number 29:"
   ]
  },
  {
   "cell_type": "code",
   "execution_count": 29,
   "id": "f9592f16-c8d9-454b-91a3-33fa95be91d4",
   "metadata": {},
   "outputs": [
    {
     "name": "stdout",
     "output_type": "stream",
     "text": [
      "[8, 64, 125, 216, 512, 1000, 1728, 2744, 3375, 4096, 5832, 8000, 10648, 13824, 15625, 17576, 21952, 27000, 32768, 39304, 42875, 46656, 54872, 64000, 74088, 85184, 91125, 97336, 110592, 125000, 140608, 157464, 166375, 175616, 195112, 216000, 238328, 262144, 274625, 287496, 314432, 343000, 373248, 405224, 421875, 438976, 474552, 512000, 551368, 592704, 614125, 636056, 681472, 729000, 778688, 830584, 857375, 884736, 941192, 1000000]\n",
      "[8, 64, 125, 216, 512, 1000, 1728, 2744, 3375, 4096, 5832, 8000, 10648, 13824, 15625, 17576, 21952, 27000, 32768, 39304, 42875, 46656, 54872, 64000, 74088, 85184, 91125, 97336, 110592, 125000, 140608, 157464, 166375, 175616, 195112, 216000, 238328, 262144, 274625, 287496, 314432, 343000, 373248, 405224, 421875, 438976, 474552, 512000, 551368, 592704, 614125, 636056, 681472, 729000, 778688, 830584, 857375, 884736, 941192, 1000000]\n"
     ]
    }
   ],
   "source": [
    "numbers = list(range(1, 101))\n",
    "cubes = []\n",
    "for num in numbers:\n",
    "    cube = num**3\n",
    "    if cube % 4 == 0 or cube % 5 == 0:\n",
    "        cubes.append(cube)\n",
    "print(cubes)\n",
    "\n",
    "numbers = list(range(1, 101))\n",
    "cubes = []\n",
    "i = 0\n",
    "while i < len(numbers):\n",
    "    num = numbers[i]\n",
    "    cube = num**3\n",
    "    if cube % 4 == 0 or cube % 5 == 0:\n",
    "        cubes.append(cube)\n",
    "    i += 1\n",
    "print(cubes)"
   ]
  },
  {
   "cell_type": "code",
   "execution_count": null,
   "id": "67977090-2bd6-45c7-bfa3-f1a8191ef0aa",
   "metadata": {},
   "outputs": [],
   "source": [
    "Ques:-5 Write a program to filter count vowels in the below-given string.\n",
    "string = \"I want to become a data scientist\"\n",
    "\n",
    "Ans:- The answer of above question is in cell number 30:"
   ]
  },
  {
   "cell_type": "code",
   "execution_count": null,
   "id": "0483eb69-703b-465e-b9da-3ed6a5f6de69",
   "metadata": {},
   "outputs": [
    {
     "name": "stdout",
     "output_type": "stream",
     "text": [
      "Number of vowels in the string: 12\n"
     ]
    }
   ],
   "source": [
    "string = \"I want to become a data scientist\"\n",
    "vowels = \"aeiouAEIOU\"\n",
    "count = 0\n",
    "\n",
    "for char in string:\n",
    "    if char in vowels:\n",
    "        count += 1\n",
    "\n",
    "print(\"Number of vowels in the string:\", count)"
   ]
  },
  {
   "cell_type": "code",
   "execution_count": null,
   "id": "7cf5df1d-bd64-4907-aa8e-145e97bb3908",
   "metadata": {},
   "outputs": [],
   "source": []
  }
 ],
 "metadata": {
  "kernelspec": {
   "display_name": "Python 3 (ipykernel)",
   "language": "python",
   "name": "python3"
  },
  "language_info": {
   "codemirror_mode": {
    "name": "ipython",
    "version": 3
   },
   "file_extension": ".py",
   "mimetype": "text/x-python",
   "name": "python",
   "nbconvert_exporter": "python",
   "pygments_lexer": "ipython3",
   "version": "3.10.6"
  }
 },
 "nbformat": 4,
 "nbformat_minor": 5
}
