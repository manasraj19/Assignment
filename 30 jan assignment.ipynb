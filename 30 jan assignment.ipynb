{
 "cells": [
  {
   "cell_type": "code",
   "execution_count": null,
   "id": "c775ca98-cf57-4132-a421-8ee50a5b2836",
   "metadata": {},
   "outputs": [],
   "source": [
    "Ques:-1 Write a python program to accept percentage from the user and display the grade according to the following criteria :\n",
    "    marks >90 = A, >80 and <=90 =B, >=60 and <=80 = C, below 60 = D"
   ]
  },
  {
   "cell_type": "code",
   "execution_count": null,
   "id": "5398f35c-48ac-409c-b159-23576f6d46c0",
   "metadata": {},
   "outputs": [],
   "source": [
    "Ans:- the Python program that prompts the user to enter their percentage and then displays the corresponding grade\n",
    "    according to the criteria mentioned:\n",
    "        "
   ]
  },
  {
   "cell_type": "code",
   "execution_count": 3,
   "id": "bfdc2a2b-c34f-40d5-a599-b0b158a8a193",
   "metadata": {},
   "outputs": [
    {
     "name": "stdin",
     "output_type": "stream",
     "text": [
      "Enter percentage:  84\n"
     ]
    },
    {
     "name": "stdout",
     "output_type": "stream",
     "text": [
      "Grade: B\n"
     ]
    }
   ],
   "source": [
    "percentage = float(input(\"Enter percentage: \"))\n",
    "\n",
    "if percentage > 90:\n",
    "    print(\"Grade: A\")\n",
    "elif percentage > 80 and percentage <=90:\n",
    "    print(\"Grade: B\")\n",
    "elif percentage >=60 and percentage <=80:\n",
    "    print(\"Grade: C\")\n",
    "else:\n",
    "    print(\"Grade: D\")\n"
   ]
  },
  {
   "cell_type": "code",
   "execution_count": null,
   "id": "9d82c5df-0480-4444-bede-56e3256d7e61",
   "metadata": {},
   "outputs": [],
   "source": [
    "Ques:2 Write a program to accept the cost price of a bike and display the road tax to be\n",
    "       paid according to the following criteria:"
   ]
  },
  {
   "cell_type": "code",
   "execution_count": null,
   "id": "3e26ccdf-42f0-44fa-81b3-3baa239d077e",
   "metadata": {},
   "outputs": [],
   "source": [
    "Ans:- Python program in Python that accepts the cost price of a bike and displays the road tax to be paid according to the \n",
    "     criteria provided:"
   ]
  },
  {
   "cell_type": "code",
   "execution_count": 5,
   "id": "35b0163e-ed0c-4e12-bea2-a313a433b78d",
   "metadata": {},
   "outputs": [
    {
     "name": "stdin",
     "output_type": "stream",
     "text": [
      "Enter the cost price of the bike:  52200\n"
     ]
    },
    {
     "name": "stdout",
     "output_type": "stream",
     "text": [
      "The road tax for the bike is: 5220.00\n"
     ]
    }
   ],
   "source": [
    "cost_price = float(input(\"Enter the cost price of the bike: \"))\n",
    "\n",
    "if cost_price > 100000:\n",
    "    tax = cost_price * 0.15\n",
    "elif cost_price > 50000:\n",
    "    tax = cost_price * 0.10\n",
    "else:\n",
    "    tax = cost_price * 0.05\n",
    "\n",
    "print(f\"The road tax for the bike is: {tax:.2f}\")\n"
   ]
  },
  {
   "cell_type": "code",
   "execution_count": null,
   "id": "98a434c9-00b5-468a-b26a-896500ed402e",
   "metadata": {},
   "outputs": [],
   "source": [
    "Ques:-3 Accept any city from the user and display monuments of that city."
   ]
  },
  {
   "cell_type": "code",
   "execution_count": null,
   "id": "46531a16-fa21-4e3f-85ea-d1027bde40bd",
   "metadata": {},
   "outputs": [],
   "source": [
    "Ans:- Program in Python that accepts a city name from the user and displays its monuments based on the criteria provided:"
   ]
  },
  {
   "cell_type": "code",
   "execution_count": 9,
   "id": "83ddb440-ecd6-49f5-9138-07584cd24d53",
   "metadata": {},
   "outputs": [
    {
     "name": "stdin",
     "output_type": "stream",
     "text": [
      "Enter a city name:  Delhi\n"
     ]
    },
    {
     "name": "stdout",
     "output_type": "stream",
     "text": [
      "The monuments of Delhi are: Red Fort\n"
     ]
    }
   ],
   "source": [
    "city = input(\"Enter a city name: \").lower()\n",
    "\n",
    "if city == \"delhi\":\n",
    "    monuments = \"Red Fort\"\n",
    "elif city == \"agra\":\n",
    "    monuments = \"Taj Mahal\"\n",
    "elif city == \"jaipur\":\n",
    "    monuments = \"Jal Mahal\"\n",
    "else:\n",
    "    monuments = \"Monuments not available for this city.\"\n",
    "\n",
    "print(f\"The monuments of {city.capitalize()} are: {monuments}\")\n"
   ]
  },
  {
   "cell_type": "code",
   "execution_count": null,
   "id": "a980aa56-aa66-4bf5-841a-f149147e0ab9",
   "metadata": {},
   "outputs": [],
   "source": [
    "Ques:-4 Check how many times a given number can be divided by 3 before it is less than or equal to 10. "
   ]
  },
  {
   "cell_type": "code",
   "execution_count": null,
   "id": "e3c1664f-cd70-4ff4-a20e-be6cc4a4f6aa",
   "metadata": {},
   "outputs": [],
   "source": [
    "Ans:- Python program that checks how many times a given number can be divided by 3 before it is less than or equal to 10"
   ]
  },
  {
   "cell_type": "code",
   "execution_count": 10,
   "id": "7ac3b1a1-1ba3-4d81-905b-f4bc2afb3026",
   "metadata": {},
   "outputs": [
    {
     "name": "stdin",
     "output_type": "stream",
     "text": [
      "Enter a number:  20\n"
     ]
    },
    {
     "name": "stdout",
     "output_type": "stream",
     "text": [
      "The given number can be divided by 3 1 times before it is less than or equal to 10.\n"
     ]
    }
   ],
   "source": [
    "num = int(input(\"Enter a number: \"))\n",
    "\n",
    "count = 0\n",
    "while num >= 10:\n",
    "    num = num / 3\n",
    "    count += 1\n",
    "\n",
    "print(\"The given number can be divided by 3\", count, \"times before it is less than or equal to 10.\")\n"
   ]
  },
  {
   "cell_type": "code",
   "execution_count": null,
   "id": "632ae71b-e513-42f1-b128-d9673485e814",
   "metadata": {},
   "outputs": [],
   "source": [
    "Ques:-5 Why and When to Use while Loop in Python give a detailed description with example "
   ]
  },
  {
   "cell_type": "code",
   "execution_count": null,
   "id": "4192aeb2-529b-4dd9-8358-19499e6c041b",
   "metadata": {},
   "outputs": [],
   "source": [
    "Ans:- In Python, a while loop is used to repeatedly execute a block of code until a certain condition is no longer true. \n",
    "The loop continues to execute as long as the condition is true.\n",
    "\n",
    "    The main advantage of using a while loop is that it allows you to execute a block of code multiple times without \n",
    "    having to write out each iteration explicitly. This can be very useful when working with large amounts of data, \n",
    "    or when you need to perform a task repeatedly until a certain condition is met.\n",
    "    \n",
    "    One common example of using a while loop is when you are iterating through a list of values and you want to \n",
    "    perform a specific operation on each value. You can use a while loop to iterate through the list and perform \n",
    "    the operation on each value until you reach the end of the list.\n",
    "    \n",
    "    Here an example of using a while loop to iterate through a list of numbers and print out each number:\n",
    "\n"
   ]
  },
  {
   "cell_type": "code",
   "execution_count": 11,
   "id": "e31732c1-8c6f-4ca0-98ae-1df379312b2c",
   "metadata": {},
   "outputs": [
    {
     "name": "stdout",
     "output_type": "stream",
     "text": [
      "1\n",
      "2\n",
      "3\n",
      "4\n",
      "5\n"
     ]
    }
   ],
   "source": [
    "numbers = [1, 2, 3, 4, 5]\n",
    "index = 0\n",
    "\n",
    "while index < len(numbers):\n",
    "    print(numbers[index])\n",
    "    index += 1\n"
   ]
  },
  {
   "cell_type": "code",
   "execution_count": null,
   "id": "8e5cace0-40f9-4cb9-bae3-6948904c40d5",
   "metadata": {},
   "outputs": [],
   "source": [
    "In this example, we have a list of numbers and an index variable that is set to 0. The while loop continues to\n",
    "execute as long as the index is less than the length of the list.\n",
    "\n",
    "uring each iteration of the loop, we prompt the user to type something and then print out what they typed. \n",
    "If the user types \"quit\", the loop will exit and the program will continue with the rest of the code.\n",
    "\n",
    "In summary, a while loop is useful when you need to repeatedly execute a block of code until a certain\n",
    "condition is no longer true. It can be used for iterating through lists or waiting for user input, among\n",
    "other things. However, you need to be careful when using a while loop to avoid creating an infinite loop\n",
    "that never terminates.\n",
    "\n"
   ]
  },
  {
   "cell_type": "code",
   "execution_count": null,
   "id": "eec74c08-4acc-4f9f-88f5-dbc0fe2f13bb",
   "metadata": {},
   "outputs": [],
   "source": [
    "Ques:-6 Use nested while loop to print 3 different pattern."
   ]
  },
  {
   "cell_type": "code",
   "execution_count": null,
   "id": "e4803aa1-ba6a-4e1b-b099-4de530c144fc",
   "metadata": {},
   "outputs": [],
   "source": [
    "Ans:- Here are three different patterns that can be printed using nested while loops in Python:"
   ]
  },
  {
   "cell_type": "code",
   "execution_count": 13,
   "id": "5037debb-a213-4bee-aa37-a5c8f539fcb9",
   "metadata": {},
   "outputs": [
    {
     "name": "stdout",
     "output_type": "stream",
     "text": [
      "1 \n",
      "1 2 \n",
      "1 2 3 \n",
      "1 2 3 4 \n",
      "1 2 3 4 5 \n"
     ]
    }
   ],
   "source": [
    "#pattern : 1\n",
    "i = 1\n",
    "while i <= 5:\n",
    "    j = 1\n",
    "    while j <= i:\n",
    "        print(j, end=' ')\n",
    "        j += 1\n",
    "    print()\n",
    "    i += 1\n"
   ]
  },
  {
   "cell_type": "code",
   "execution_count": 14,
   "id": "b2bbb51e-fbec-4950-9a6c-1dce689d43bc",
   "metadata": {},
   "outputs": [
    {
     "name": "stdout",
     "output_type": "stream",
     "text": [
      "1 \n",
      "2 3 \n",
      "4 5 6 \n",
      "7 8 9 10 \n"
     ]
    }
   ],
   "source": [
    "#pattern : 2\n",
    "i = 1\n",
    "n = 1\n",
    "while i <= 4:\n",
    "    j = 1\n",
    "    while j <= i:\n",
    "        print(n, end=' ')\n",
    "        j += 1\n",
    "        n += 1\n",
    "    print()\n",
    "    i += 1\n"
   ]
  },
  {
   "cell_type": "code",
   "execution_count": 15,
   "id": "1bcc113d-b486-4893-b2cc-6caf07b75759",
   "metadata": {},
   "outputs": [
    {
     "name": "stdout",
     "output_type": "stream",
     "text": [
      "1 \n",
      "0 1 \n",
      "1 0 1 \n",
      "0 1 0 1 \n",
      "1 0 1 0 1 \n"
     ]
    }
   ],
   "source": [
    "#pattern : 3\n",
    "i = 1\n",
    "while i <= 5:\n",
    "    j = 1\n",
    "    k = i % 2\n",
    "    while j <= i:\n",
    "        print(k, end=' ')\n",
    "        k = 1 - k\n",
    "        j += 1\n",
    "    print()\n",
    "    i += 1\n"
   ]
  },
  {
   "cell_type": "code",
   "execution_count": null,
   "id": "a274d301-1a60-4259-99bb-edd9d067c6e9",
   "metadata": {},
   "outputs": [],
   "source": [
    "Ques:-7 Reverse a while loop to display numbers from 10 to 1."
   ]
  },
  {
   "cell_type": "code",
   "execution_count": null,
   "id": "5630760a-bceb-483b-8129-ac3d1f9114af",
   "metadata": {},
   "outputs": [],
   "source": [
    "Ans:- Here an example of using a while loop to display the numbers from 10 to 1 in reverse order:"
   ]
  },
  {
   "cell_type": "code",
   "execution_count": 17,
   "id": "aba14a50-0f4c-4c52-9791-0b9041b8468c",
   "metadata": {},
   "outputs": [
    {
     "name": "stdout",
     "output_type": "stream",
     "text": [
      "10\n",
      "9\n",
      "8\n",
      "7\n",
      "6\n",
      "5\n",
      "4\n",
      "3\n",
      "2\n",
      "1\n"
     ]
    }
   ],
   "source": [
    "num = 10\n",
    "while num >= 1:\n",
    "    print(num)\n",
    "    num -= 1\n",
    "    \n",
    "#In this code, we initialize the num variable to 10. The while loop will continue to execute as long as num is greater than or equal to 1.\n",
    "\n",
    "#During each iteration of the loop, we print the current value of num and then subtract 1 from it. This causes\n",
    "#num to count down from 10 to 1. When num becomes 0, the condition num >= 1 is no longer true, and the loop exits.\n",
    "    \n"
   ]
  },
  {
   "cell_type": "code",
   "execution_count": null,
   "id": "4a1e0963-8a32-4efa-bdc8-6eb1c17572d3",
   "metadata": {},
   "outputs": [],
   "source": [
    "Ques:-8 Reverse a while loop to display numbers from 10 to 1."
   ]
  },
  {
   "cell_type": "code",
   "execution_count": 18,
   "id": "b0bbdfba-f87a-44c8-8dd0-fba56d13e58e",
   "metadata": {},
   "outputs": [
    {
     "name": "stdout",
     "output_type": "stream",
     "text": [
      "10\n",
      "9\n",
      "8\n",
      "7\n",
      "6\n",
      "5\n",
      "4\n",
      "3\n",
      "2\n",
      "1\n"
     ]
    }
   ],
   "source": [
    "num = 10\n",
    "while num >= 1:\n",
    "    print(num)\n",
    "    num -= 1\n",
    "    \n",
    "#In this code, we initialize the num variable to 10. The while loop will continue to execute as long as num is greater than or equal to 1.\n",
    "\n",
    "#During each iteration of the loop, we print the current value of num and then subtract 1 from it. This causes\n",
    "#num to count down from 10 to 1. When num becomes 0, the condition num >= 1 is no longer true, and the loop exits.\n",
    "    \n"
   ]
  },
  {
   "cell_type": "code",
   "execution_count": null,
   "id": "d0ed563a-cc94-4a35-a5d9-3c79e2e520e8",
   "metadata": {},
   "outputs": [],
   "source": []
  }
 ],
 "metadata": {
  "kernelspec": {
   "display_name": "Python 3 (ipykernel)",
   "language": "python",
   "name": "python3"
  },
  "language_info": {
   "codemirror_mode": {
    "name": "ipython",
    "version": 3
   },
   "file_extension": ".py",
   "mimetype": "text/x-python",
   "name": "python",
   "nbconvert_exporter": "python",
   "pygments_lexer": "ipython3",
   "version": "3.10.6"
  }
 },
 "nbformat": 4,
 "nbformat_minor": 5
}
