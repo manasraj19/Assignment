{
 "cells": [
  {
   "cell_type": "code",
   "execution_count": null,
   "id": "7aececa5-1db0-40ab-a815-cccd7714e679",
   "metadata": {},
   "outputs": [],
   "source": [
    "Ques:-1 Explain Class and Object with respect to Object-Oriented Programming. Give a suitable example."
   ]
  },
  {
   "cell_type": "code",
   "execution_count": null,
   "id": "62e6c02f-88ce-4531-83e7-eada443165d6",
   "metadata": {},
   "outputs": [],
   "source": [
    "Ans:- In Python, a class is defined using the class keyword and it's a blueprint or a template\n",
    "for creating objects, which define the attributes and methods of the objects that belong\n",
    "to the class. An object is an instance of a class, which means that it is a specific \n",
    "implementation of the class.\n",
    "\n",
    "Here an example:"
   ]
  },
  {
   "cell_type": "code",
   "execution_count": 1,
   "id": "67734bd6-07b7-403b-a405-254df397a99e",
   "metadata": {},
   "outputs": [],
   "source": [
    "class Car:\n",
    "    def __init__(self, color, make, model, year):\n",
    "        self.color = color\n",
    "        self.make = make\n",
    "        self.model = model\n",
    "        self.year = year\n",
    "\n",
    "    def return_car_details(self):\n",
    "        return self.color, self.make, self.model, self.year\n",
    "           "
   ]
  },
  {
   "cell_type": "code",
   "execution_count": 2,
   "id": "53b1105f-e454-46d6-a8ae-8c147258150c",
   "metadata": {},
   "outputs": [],
   "source": [
    "your_car = Car(\"red\", \"chevrolet\", \"camaro\", 2001 )"
   ]
  },
  {
   "cell_type": "code",
   "execution_count": 3,
   "id": "052932ca-5e30-4736-b6b1-4ea0877f0b6d",
   "metadata": {},
   "outputs": [
    {
     "data": {
      "text/plain": [
       "('red', 'chevrolet', 'camaro', 2001)"
      ]
     },
     "execution_count": 3,
     "metadata": {},
     "output_type": "execute_result"
    }
   ],
   "source": [
    "your_car.return_car_details()"
   ]
  },
  {
   "cell_type": "code",
   "execution_count": null,
   "id": "ea6c91d6-932b-4da9-8853-9389e53e2007",
   "metadata": {},
   "outputs": [],
   "source": [
    "Ques:-2 Name the four pillars of OOPs."
   ]
  },
  {
   "cell_type": "code",
   "execution_count": null,
   "id": "24762a00-8a95-463b-a289-3bd9b40e6247",
   "metadata": {},
   "outputs": [],
   "source": [
    "Ans:- Object-oriented programming is an approach or a programming sample where the \n",
    "packages are structured around objects rather than functions and logic. It makes \n",
    "the data partitioned into memory areas, i.e., data and functions, and helps make \n",
    "the code flexible and modular. The four pillars of OOPS are Inheritance, Polymorphism,\n",
    "Encapsulation and Abstraction.\n",
    "\n",
    "Object-oriented programming mainly focuses on objects which might be required to be \n",
    "manipulated. In OOPs, it may represent data as objects with attributes and functions.\n",
    "The four pillars for Oops are:\n",
    "\n",
    "1. Abstraction\n",
    "\n",
    "2. Encapsulation\n",
    "\n",
    "3. Inheritance\n",
    "\n",
    "4. Polymorphism"
   ]
  },
  {
   "cell_type": "code",
   "execution_count": null,
   "id": "e69a6dd8-cf60-4aee-850d-d8511f6f376e",
   "metadata": {},
   "outputs": [],
   "source": [
    "Ques:-3 Explain why the __init__() function is used. Give a suitable example."
   ]
  },
  {
   "cell_type": "code",
   "execution_count": null,
   "id": "5631dd66-51e7-4eef-a1d6-166a80f9ad35",
   "metadata": {},
   "outputs": [],
   "source": [
    "Ans:- In Python, the __init__() function is a special method that is called when an \n",
    "object of a class is created. It is used to initialize the properties of the object \n",
    "and perform any other setup that is required.\n",
    "\n",
    "Here's an example:"
   ]
  },
  {
   "cell_type": "code",
   "execution_count": 4,
   "id": "4c401f84-62b6-430b-b912-672c507dbc14",
   "metadata": {},
   "outputs": [],
   "source": [
    "class Person:\n",
    "    def __init__(self, name, age):\n",
    "        self.name = name\n",
    "        self.age = age\n",
    "\n",
    "    def introduce(self):\n",
    "        print(f\"My name is {self.name} and I'm {self.age} years old.\")\n"
   ]
  },
  {
   "cell_type": "code",
   "execution_count": 10,
   "id": "af8e9f65-f445-412b-a3e1-73df9a613ae5",
   "metadata": {},
   "outputs": [],
   "source": [
    "person1 = Person(\"Manas\", 22)"
   ]
  },
  {
   "cell_type": "code",
   "execution_count": 11,
   "id": "a97bdd30-1a70-4666-ab5a-50e6d5d3b8ae",
   "metadata": {},
   "outputs": [
    {
     "name": "stdout",
     "output_type": "stream",
     "text": [
      "My name is Manas and I'm 22 years old.\n"
     ]
    }
   ],
   "source": [
    "person1.introduce()"
   ]
  },
  {
   "cell_type": "code",
   "execution_count": null,
   "id": "0bf4dfaf-43d9-41db-a5e9-87dd4ad4844a",
   "metadata": {},
   "outputs": [],
   "source": [
    "Ques:-4 Why self is used in OOPs?"
   ]
  },
  {
   "cell_type": "code",
   "execution_count": null,
   "id": "89cc3a1f-b0a1-4d82-b196-04ae5e5d277c",
   "metadata": {},
   "outputs": [],
   "source": [
    "Ans:- In object-oriented programming (OOP), self is a reference to the instance of the\n",
    "class that is being worked with. It's used as the first parameter of any method \n",
    "in a class, and it refers to the instance of the class on which the method is being called.\n",
    "\n",
    "Here's an example:"
   ]
  },
  {
   "cell_type": "code",
   "execution_count": 12,
   "id": "2bcde34e-24d7-4681-ac17-159ffcd776bc",
   "metadata": {},
   "outputs": [],
   "source": [
    "class Person:\n",
    "    def __init__(self, name, age):\n",
    "        self.name = name\n",
    "        self.age = age\n",
    "\n",
    "    def introduce(self):\n",
    "        print(f\"My name is {self.name} and I'm {self.age} years old.\")\n"
   ]
  },
  {
   "cell_type": "code",
   "execution_count": null,
   "id": "68e7fad3-155a-49bc-9216-efdc8ab22101",
   "metadata": {},
   "outputs": [],
   "source": [
    "In this example, self is used as the first parameter in the __init__() and \n",
    "introduce() methods. When an object of the Person class is created, \n",
    "the __init__() method is called with self representing the instance of \n",
    "the Person object being created. This allows us to set the name and\n",
    " age attributes of that particular object."
   ]
  },
  {
   "cell_type": "code",
   "execution_count": null,
   "id": "466b9bcc-baff-46c8-8300-ba3d4fcda5de",
   "metadata": {},
   "outputs": [],
   "source": [
    "Ques:-5 What is inheritance? Give an example for each type of inheritance."
   ]
  },
  {
   "cell_type": "code",
   "execution_count": null,
   "id": "85c51391-5e97-4c8f-92e5-e059d3aceb96",
   "metadata": {},
   "outputs": [],
   "source": [
    "Ans:- Inheritance is a fundamental concept in object-oriented programming that \n",
    "allows a new class to be based on an existing class. Inheritance enables\n",
    " the creation of a hierarchy of classes, with each class inheriting behavior\n",
    " and properties from its parent class. This helps to promote code reuse\n",
    " and maintainability.\n",
    "\n",
    "There are several types of inheritance:"
   ]
  },
  {
   "cell_type": "code",
   "execution_count": null,
   "id": "14436f8d-738b-48dc-879e-534cf15652e0",
   "metadata": {},
   "outputs": [],
   "source": [
    "1. Single Inheritance: In single inheritance, a class is derived from a single \n",
    "base class. This means that the derived class inherits all the properties\n",
    "and methods of the base class.\n",
    "\n",
    "Here is an example of single inheritance:"
   ]
  },
  {
   "cell_type": "code",
   "execution_count": 13,
   "id": "418c501c-1efe-445d-a18e-d2d0230ec3fe",
   "metadata": {},
   "outputs": [
    {
     "name": "stdout",
     "output_type": "stream",
     "text": [
      "Buddy is eating\n",
      "Woof!\n"
     ]
    }
   ],
   "source": [
    "class Animal:\n",
    "    def __init__(self, name):\n",
    "        self.name = name\n",
    "\n",
    "    def eat(self):\n",
    "        print(f\"{self.name} is eating\")\n",
    "\n",
    "class Dog(Animal):\n",
    "    def bark(self):\n",
    "        print(\"Woof!\")\n",
    "\n",
    "dog = Dog(\"Buddy\")\n",
    "dog.eat()   # output: Buddy is eating\n",
    "dog.bark()  # output: Woof!\n"
   ]
  },
  {
   "cell_type": "code",
   "execution_count": null,
   "id": "b8c1399e-6430-4b82-9737-17a8af72f87d",
   "metadata": {},
   "outputs": [],
   "source": [
    "In this example, the Dog class is derived from the Animal class using single inheritance.\n",
    "The Dog class inherits the eat() method from the Animal class and also defines its own bark() method."
   ]
  },
  {
   "cell_type": "code",
   "execution_count": null,
   "id": "da810337-0bff-44e0-86a2-dd8a2829a8f5",
   "metadata": {},
   "outputs": [],
   "source": [
    "2. Multiple Inheritance: In multiple inheritance, a class is derived from multiple base classes. \n",
    "This means that the derived class inherits properties and methods from multiple base classes."
   ]
  },
  {
   "cell_type": "code",
   "execution_count": 14,
   "id": "b9db151e-7391-413b-b82b-46114fd5040b",
   "metadata": {},
   "outputs": [
    {
     "name": "stdout",
     "output_type": "stream",
     "text": [
      "Method A\n",
      "Method B\n",
      "Method C\n"
     ]
    }
   ],
   "source": [
    "class A:\n",
    "    def method_a(self):\n",
    "        print(\"Method A\")\n",
    "\n",
    "class B:\n",
    "    def method_b(self):\n",
    "        print(\"Method B\")\n",
    "\n",
    "class C(A, B):\n",
    "    def method_c(self):\n",
    "        print(\"Method C\")\n",
    "\n",
    "c = C()\n",
    "c.method_a()  # output: Method A\n",
    "c.method_b()  # output: Method B\n",
    "c.method_c()  # output: Method C\n"
   ]
  },
  {
   "cell_type": "code",
   "execution_count": null,
   "id": "fd5bbea7-3eef-4784-aa76-f6427d7cf8d3",
   "metadata": {},
   "outputs": [],
   "source": [
    "In this example, the C class is derived from both the A and B classes using multiple inheritance. \n",
    "The C class inherits the method_a() from the A class and the method_b() from the B class, and \n",
    "defines its own method_c()."
   ]
  },
  {
   "cell_type": "code",
   "execution_count": null,
   "id": "d335a7b4-2d6f-4c80-b8cc-1946f6f15b30",
   "metadata": {},
   "outputs": [],
   "source": [
    "3. Multi-level Inheritance: In multi-level inheritance, a class is derived from a base class, which is \n",
    "itself derived from another base class. This creates a hierarchy of classes."
   ]
  },
  {
   "cell_type": "code",
   "execution_count": 15,
   "id": "b1699924-c62f-4dde-b544-70bbdf2ea54a",
   "metadata": {},
   "outputs": [
    {
     "name": "stdout",
     "output_type": "stream",
     "text": [
      "Max is eating\n",
      "Woof!\n",
      "I'm running\n"
     ]
    }
   ],
   "source": [
    "class Animal:\n",
    "    def __init__(self, name):\n",
    "        self.name = name\n",
    "\n",
    "    def eat(self):\n",
    "        print(f\"{self.name} is eating\")\n",
    "\n",
    "class Dog(Animal):\n",
    "    def bark(self):\n",
    "        print(\"Woof!\")\n",
    "\n",
    "class Bulldog(Dog):\n",
    "    def run(self):\n",
    "        print(\"I'm running\")\n",
    "\n",
    "bulldog = Bulldog(\"Max\")\n",
    "bulldog.eat()  # output: Max is eating\n",
    "bulldog.bark() # output: Woof!\n",
    "bulldog.run()  # output: I'm running\n"
   ]
  },
  {
   "cell_type": "code",
   "execution_count": null,
   "id": "55f5db79-16b2-4a7d-a7b7-5a099a77c7c0",
   "metadata": {},
   "outputs": [],
   "source": [
    "In this example, the Bulldog class is derived from the Dog class, which is itself derived \n",
    "from the Animal class. The Bulldog class inherits the eat() method from the Animal class, the \n",
    "bark() method from the Dog class, and defines its own run() method."
   ]
  }
 ],
 "metadata": {
  "kernelspec": {
   "display_name": "Python 3 (ipykernel)",
   "language": "python",
   "name": "python3"
  },
  "language_info": {
   "codemirror_mode": {
    "name": "ipython",
    "version": 3
   },
   "file_extension": ".py",
   "mimetype": "text/x-python",
   "name": "python",
   "nbconvert_exporter": "python",
   "pygments_lexer": "ipython3",
   "version": "3.10.6"
  }
 },
 "nbformat": 4,
 "nbformat_minor": 5
}
