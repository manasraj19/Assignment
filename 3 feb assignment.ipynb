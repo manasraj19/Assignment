{
 "cells": [
  {
   "cell_type": "code",
   "execution_count": null,
   "id": "1d23e483-460e-4b7c-8845-57f1ec2ff571",
   "metadata": {},
   "outputs": [],
   "source": [
    "Ques:-1 Which keyword is used to create a function? Create a function to return a list of odd numbers in the\n",
    "range of 1 to 25."
   ]
  },
  {
   "cell_type": "code",
   "execution_count": null,
   "id": "81034283-40c1-4b13-81cf-765b668c17ee",
   "metadata": {},
   "outputs": [],
   "source": [
    "Ans:- The keyword used to create a function in Python is \"def\".\n",
    "\n",
    "Here an example function that returns a list of odd numbers in the range of 1 to 25:\n",
    "\n"
   ]
  },
  {
   "cell_type": "code",
   "execution_count": 5,
   "id": "e6d6bff4-c3a9-4ad0-a9f0-79d56a54da5d",
   "metadata": {},
   "outputs": [
    {
     "name": "stdout",
     "output_type": "stream",
     "text": [
      "[1, 3, 5, 7, 9, 11, 13, 15, 17, 19, 21, 23, 25]\n"
     ]
    }
   ],
   "source": [
    "def get_odd_numbers():\n",
    "    odd_numbers = []\n",
    "    for num in range(1, 26):\n",
    "        if num % 2 == 1:\n",
    "            odd_numbers.append(num)\n",
    "    return odd_numbers\n",
    "\n",
    "odd_nums = get_odd_numbers()\n",
    "print(odd_nums)"
   ]
  },
  {
   "cell_type": "code",
   "execution_count": null,
   "id": "2bb90f72-cdc7-4f23-9753-ae8d0b2a850f",
   "metadata": {},
   "outputs": [],
   "source": [
    "Ques:-2 Why *args and **kwargs is used in some functions? Create a function each for *args and **kwargs\n",
    "to demonstrate their use."
   ]
  },
  {
   "cell_type": "code",
   "execution_count": null,
   "id": "4473d740-b6d3-48f2-b71e-1226c2bdce9a",
   "metadata": {},
   "outputs": [],
   "source": [
    "Ans:- *args and **kwargs are special syntax in Python that allows a function to accept any number of arguments and/or\n",
    "keyword arguments.\n",
    "\n",
    "*args is used to pass a variable number of non-keyword arguments to a function. It allows you to pass an arbitrary \n",
    "number of positional arguments to the function as a tuple.\n",
    "\n",
    "**kwargs is used to pass a variable number of keyword arguments to a function. It allows you to pass an arbitrary \n",
    "number of keyword arguments to the function as a dictionary"
   ]
  },
  {
   "cell_type": "code",
   "execution_count": 6,
   "id": "bd2a72df-3d70-42c3-85c6-d240b53bb293",
   "metadata": {},
   "outputs": [
    {
     "name": "stdout",
     "output_type": "stream",
     "text": [
      "First argument : Hello\n",
      "Next argument through *argv : Welcome\n",
      "Next argument through *argv : to\n",
      "Next argument through *argv : PWskills\n"
     ]
    }
   ],
   "source": [
    "def myFun(arg1, *argv):\n",
    "\tprint(\"First argument :\", arg1)\n",
    "\tfor arg in argv:\n",
    "\t\tprint(\"Next argument through *argv :\", arg)\n",
    "\n",
    "\n",
    "myFun('Hello', 'Welcome', 'to', 'PWskills')\n"
   ]
  },
  {
   "cell_type": "code",
   "execution_count": 7,
   "id": "af2a5078-51bb-4d78-a9cd-986619790a74",
   "metadata": {},
   "outputs": [
    {
     "name": "stdout",
     "output_type": "stream",
     "text": [
      "first == Hello\n",
      "mid == PWskills\n",
      "last == Learners\n"
     ]
    }
   ],
   "source": [
    "def myFun(**kwargs):\n",
    "\tfor key, value in kwargs.items():\n",
    "\t\tprint(\"%s == %s\" % (key, value))\n",
    "\n",
    "\n",
    "# Driver code\n",
    "myFun(first='Hello', mid='PWskills', last='Learners')\n"
   ]
  },
  {
   "cell_type": "code",
   "execution_count": null,
   "id": "445ce2b1-1d51-4e9b-8507-226e9493894e",
   "metadata": {},
   "outputs": [],
   "source": [
    "Ques:-3 What is an iterator in python? Name the method used to initialise the iterator object and the method\n",
    "used for iteration. Use these methods to print the first five elements of the given list [2, 4, 6, 8, 10, 12, 14,\n",
    "16, 18, 20]."
   ]
  },
  {
   "cell_type": "code",
   "execution_count": null,
   "id": "b4151bee-ff74-40d5-a0eb-c351be70069b",
   "metadata": {},
   "outputs": [],
   "source": [
    "Ans:- An iterator in Python is an object that allows you to traverse through a collection of items, one item at a time,\n",
    "without having to know the details of how the collection is implemented. In Python, an iterator is an object that \n",
    "implements the __iter__() and __next__() methods.\n",
    "\n",
    "The __iter__() method is used to initialize the iterator object and returns the iterator object itself. The __next__() \n",
    "method is used to iterate through the elements of the collection one by one and raises a StopIteration exception\n",
    " when there are no more elements left."
   ]
  },
  {
   "cell_type": "code",
   "execution_count": 8,
   "id": "1212ceb5-e2fe-419a-a711-db1484fe4a55",
   "metadata": {},
   "outputs": [
    {
     "name": "stdout",
     "output_type": "stream",
     "text": [
      "2\n",
      "4\n",
      "6\n",
      "8\n",
      "10\n"
     ]
    }
   ],
   "source": [
    "my_list = [2, 4, 6, 8, 10, 12, 14, 16, 18, 20]\n",
    "\n",
    "# Initialize the iterator object\n",
    "my_iter = iter(my_list)\n",
    "\n",
    "# Iterate through the first five elements of the list\n",
    "for i in range(5):\n",
    "    # Get the next element from the iterator\n",
    "    element = next(my_iter)\n",
    "    # Print the element\n",
    "    print(element)\n"
   ]
  },
  {
   "cell_type": "code",
   "execution_count": null,
   "id": "d26403d5-3aed-4246-a660-7d87136aa84c",
   "metadata": {},
   "outputs": [],
   "source": [
    "Ques:-4 What is a generator function in python? Why yield keyword is used? Give an example of a generator\n",
    "function."
   ]
  },
  {
   "cell_type": "code",
   "execution_count": null,
   "id": "728530df-7046-4c04-903f-8ee2186b33a6",
   "metadata": {},
   "outputs": [],
   "source": [
    "Ans:- A generator function in Python is a special type of function that generates a sequence of values or items,\n",
    " which can be iterated over, one at a time. It uses the yield keyword instead of return to return the value, \n",
    "and each time a value is returned, the functions state is saved, allowing it to be resumed from where it \n",
    "left off the next time its called. This makes it an efficient and memory-friendly way of generating a sequence of values.\n",
    "\n",
    "Yield:- The yield keyword is used in a generator function to temporarily suspend the function's execution\n",
    " and return a value to the caller. When the generator function is called again, it resumes execution from \n",
    "where it left off, with the state of the function being retained in memory. This allows the function to generate \n",
    "a sequence of values on the fly, without having to generate them all at once and store them in memory."
   ]
  },
  {
   "cell_type": "code",
   "execution_count": 9,
   "id": "c8ef214d-e01a-4df7-a6d3-b747502a1588",
   "metadata": {},
   "outputs": [
    {
     "name": "stdout",
     "output_type": "stream",
     "text": [
      "0\n",
      "2\n",
      "4\n",
      "6\n",
      "8\n"
     ]
    }
   ],
   "source": [
    "def even_numbers(n):\n",
    "    i = 0\n",
    "    while i < n:\n",
    "        yield i * 2\n",
    "        i += 1\n",
    "# Create a generator object that generates the first 5 even numbers\n",
    "even_nums = even_numbers(5)\n",
    "\n",
    "# Iterate through the even numbers and print each one\n",
    "for num in even_nums:\n",
    "    print(num)"
   ]
  },
  {
   "cell_type": "code",
   "execution_count": null,
   "id": "58da415b-08fd-44bd-8e92-fcd200d0064d",
   "metadata": {},
   "outputs": [],
   "source": [
    "Ques:-5 Create a generator function for prime numbers less than 1000. Use the next() method to print the\n",
    "first 20 prime numbers."
   ]
  },
  {
   "cell_type": "code",
   "execution_count": null,
   "id": "9dbbf70a-fc44-4b89-9e2b-80aff5b27e40",
   "metadata": {},
   "outputs": [],
   "source": [
    "Ans:- In this example, the primes() generator function generates a sequence of prime numbers less\n",
    " than 1000 using the sieve of Eratosthenes algorithm. It first yields the first two prime numbers \n",
    "(2 and 3), and then checks each odd number starting from 5 to see if it's a prime by checking \n",
    "if it's divisible by any of the previously generated primes. If it's a prime, it's added to the list of \n",
    "primes and yielded."
   ]
  },
  {
   "cell_type": "code",
   "execution_count": 10,
   "id": "5f53fbbe-20f7-41f5-a6d6-ece4d39809ac",
   "metadata": {},
   "outputs": [
    {
     "name": "stdout",
     "output_type": "stream",
     "text": [
      "2\n",
      "3\n",
      "5\n",
      "7\n",
      "11\n",
      "13\n",
      "17\n",
      "19\n",
      "23\n",
      "29\n",
      "31\n",
      "37\n",
      "41\n",
      "43\n",
      "47\n",
      "53\n",
      "59\n",
      "61\n",
      "67\n",
      "71\n"
     ]
    }
   ],
   "source": [
    "def primes():\n",
    "    # Initial list of primes\n",
    "    primes_list = [2, 3]\n",
    "    yield 2\n",
    "    yield 3\n",
    "\n",
    "    # Start checking for primes from 5\n",
    "    num = 5\n",
    "    while num < 1000:\n",
    "        is_prime = True\n",
    "        # Check if num is divisible by any of the primes in the list\n",
    "        for prime in primes_list:\n",
    "            if num % prime == 0:\n",
    "                is_prime = False\n",
    "                break\n",
    "        if is_prime:\n",
    "            primes_list.append(num)\n",
    "            yield num\n",
    "        num += 2\n",
    "# Create a generator object that generates prime numbers\n",
    "prime_generator = primes()\n",
    "\n",
    "# Print the first 20 prime numbers using the next() method\n",
    "for i in range(20):\n",
    "    print(next(prime_generator))\n",
    "\n"
   ]
  },
  {
   "cell_type": "code",
   "execution_count": null,
   "id": "ce86c3cb-d6e9-4584-961b-4b244fd7b172",
   "metadata": {},
   "outputs": [],
   "source": [
    "Ques:-6 Write a python program to print the first 10 Fibonacci numbers using a while loop."
   ]
  },
  {
   "cell_type": "code",
   "execution_count": null,
   "id": "859bf00d-d44a-450a-9b0a-6188a5c6a5dd",
   "metadata": {},
   "outputs": [],
   "source": [
    "Ans:- In this example, we initialize the first two numbers in the Fibonacci sequence to 0 and 1, and\n",
    "use a while loop to generate the first 10 Fibonacci numbers. Inside the loop, we print the current\n",
    "value of a (which is the current Fibonacci number), and update the values of a and b to generate \n",
    "the next Fibonacci number in the sequence. We also use a count variable to keep track of the\n",
    "number of Fibonacci numbers generated, and exit the loop after printing the first 10 numbers.\n"
   ]
  },
  {
   "cell_type": "code",
   "execution_count": 11,
   "id": "6c4c3493-25e6-4c3b-908e-827bb6fc8694",
   "metadata": {},
   "outputs": [
    {
     "name": "stdout",
     "output_type": "stream",
     "text": [
      "0\n",
      "1\n",
      "1\n",
      "2\n",
      "3\n",
      "5\n",
      "8\n",
      "13\n",
      "21\n",
      "34\n"
     ]
    }
   ],
   "source": [
    "a, b = 0, 1\n",
    "count = 0\n",
    "\n",
    "while count < 10:\n",
    "    print(a)\n",
    "    a, b = b, a + b\n",
    "    count += 1\n"
   ]
  },
  {
   "cell_type": "code",
   "execution_count": null,
   "id": "2c8a1d9f-022d-40c3-893b-aa4a232dc6e7",
   "metadata": {},
   "outputs": [],
   "source": [
    "Ques:-7 Write a List Comprehension to iterate through the given string: ‘pwskills’.\n",
    "Expected output: ['p', 'w', 's', 'k', 'i', 'l', 'l', 's']"
   ]
  },
  {
   "cell_type": "code",
   "execution_count": null,
   "id": "80403fb5-1e86-4249-bdc3-194e59b0cb70",
   "metadata": {},
   "outputs": [],
   "source": [
    "Ans:- Here is the List Comprehension to iterate through the given string 'pwskills' and output a list containing each character:"
   ]
  },
  {
   "cell_type": "code",
   "execution_count": 12,
   "id": "f4e0bc08-78c9-473d-8fbf-53b9602155ed",
   "metadata": {},
   "outputs": [
    {
     "name": "stdout",
     "output_type": "stream",
     "text": [
      "['p', 'w', 's', 'k', 'i', 'l', 'l', 's']\n"
     ]
    }
   ],
   "source": [
    "string = 'pwskills'\n",
    "result = [char for char in string]\n",
    "print(result)\n"
   ]
  },
  {
   "cell_type": "code",
   "execution_count": null,
   "id": "9bc08f7c-2433-4cbd-90c1-1a3b27f170e6",
   "metadata": {},
   "outputs": [],
   "source": [
    "Ques:-8 Write a python program to check whether a given number is Palindrome or not using a while loop."
   ]
  },
  {
   "cell_type": "code",
   "execution_count": null,
   "id": "83d54765-5b94-49a7-b0e2-44609b552523",
   "metadata": {},
   "outputs": [],
   "source": [
    "Ans:- The Python program to check whether a given number is a palindrome or not using a while loop:"
   ]
  },
  {
   "cell_type": "code",
   "execution_count": 13,
   "id": "32badd12-95e9-4423-a647-1102d933f7f1",
   "metadata": {},
   "outputs": [
    {
     "name": "stdin",
     "output_type": "stream",
     "text": [
      "Enter a number:  55\n"
     ]
    },
    {
     "name": "stdout",
     "output_type": "stream",
     "text": [
      "55 is a palindrome number\n"
     ]
    }
   ],
   "source": [
    "num = int(input(\"Enter a number: \"))\n",
    "temp = num\n",
    "reverse = 0\n",
    "\n",
    "while temp > 0:\n",
    "    digit = temp % 10\n",
    "    reverse = reverse * 10 + digit\n",
    "    temp //= 10\n",
    "\n",
    "if num == reverse:\n",
    "    print(num, \"is a palindrome number\")\n",
    "else:\n",
    "    print(num, \"is not a palindrome number\")\n"
   ]
  },
  {
   "cell_type": "code",
   "execution_count": null,
   "id": "c14bd909-c5d9-45b7-9b7b-cbd735154907",
   "metadata": {},
   "outputs": [],
   "source": [
    "Ques:-9 Write a code to print odd numbers from 1 to 100 using list comprehension.\n",
    "Note: Use a list comprehension to create a list from 1 to 100 and use another List comprehension to filter\n",
    "out odd numbers."
   ]
  },
  {
   "cell_type": "code",
   "execution_count": null,
   "id": "ab256488-1965-49a7-be45-a7dbff1fc6c3",
   "metadata": {},
   "outputs": [],
   "source": [
    "Ans:- The Python code to print odd numbers from 1 to 100 using list comprehension:"
   ]
  },
  {
   "cell_type": "code",
   "execution_count": 15,
   "id": "af2f3b7a-f273-4f00-9ce2-26a3b5020d09",
   "metadata": {},
   "outputs": [
    {
     "name": "stdout",
     "output_type": "stream",
     "text": [
      "[1, 3, 5, 7, 9, 11, 13, 15, 17, 19, 21, 23, 25, 27, 29, 31, 33, 35, 37, 39, 41, 43, 45, 47, 49, 51, 53, 55, 57, 59, 61, 63, 65, 67, 69, 71, 73, 75, 77, 79, 81, 83, 85, 87, 89, 91, 93, 95, 97, 99]\n"
     ]
    }
   ],
   "source": [
    "odd_numbers = [num for num in range(1, 101) if num % 2 != 0]\n",
    "\n",
    "print(odd_numbers)\n"
   ]
  },
  {
   "cell_type": "code",
   "execution_count": null,
   "id": "2feba076-39c9-4ba4-8830-b54bfe3eaf04",
   "metadata": {},
   "outputs": [],
   "source": []
  }
 ],
 "metadata": {
  "kernelspec": {
   "display_name": "Python 3 (ipykernel)",
   "language": "python",
   "name": "python3"
  },
  "language_info": {
   "codemirror_mode": {
    "name": "ipython",
    "version": 3
   },
   "file_extension": ".py",
   "mimetype": "text/x-python",
   "name": "python",
   "nbconvert_exporter": "python",
   "pygments_lexer": "ipython3",
   "version": "3.10.6"
  }
 },
 "nbformat": 4,
 "nbformat_minor": 5
}
