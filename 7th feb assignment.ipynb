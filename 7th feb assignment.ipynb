{
 "cells": [
  {
   "cell_type": "code",
   "execution_count": null,
   "id": "17be4929-0336-4590-b22e-3055287cd835",
   "metadata": {},
   "outputs": [],
   "source": [
    "Ques:-1 You are writing code for a company. The requirement of the company is that you create a python\n",
    "function that will check whether the password entered by the user is correct or not. The function should\n",
    "take the password as input and return the string “Valid Password” if the entered password follows the\n",
    "below-given password guidelines else it should return “Invalid Password”.\n",
    "Note: 1. The Password should contain at least two uppercase letters and at least two lowercase letters.\n",
    "2. The Password should contain at least a number and three special characters.\n",
    "3. The length of the password should be 10 characters long.\n"
   ]
  },
  {
   "cell_type": "code",
   "execution_count": 3,
   "id": "af29a583-5d25-47fc-b40d-2a5835c416b9",
   "metadata": {},
   "outputs": [],
   "source": [
    "import re\n",
    "\n",
    "def check_password():\n",
    "    password = input(\"Enter your password: \")\n",
    "\n",
    "    # Check if password is at least 10 characters long\n",
    "    if len(password) < 10:\n",
    "        return \"Invalid Password\"\n",
    "    \n",
    "    # Check if password contains at least two uppercase letters and at least two lowercase letters\n",
    "    if len(re.findall(r'[A-Z]', password)) < 2 or len(re.findall(r'[a-z]', password)) < 2:\n",
    "        return \"Invalid Password\"\n",
    "    \n",
    "    # Check if password contains at least a number and three special characters\n",
    "    if len(re.findall(r'\\d', password)) < 1 or len(re.findall(r'[!@#$%^&*(),.?\":{}|<>]', password)) < 3:\n",
    "        return \"Invalid Password\"\n",
    "    \n",
    "    # Password meets all requirements\n",
    "    return \"Valid Password\"\n"
   ]
  },
  {
   "cell_type": "code",
   "execution_count": 5,
   "id": "b57fd572-f557-4fd0-8e33-c76aa003c743",
   "metadata": {},
   "outputs": [
    {
     "name": "stdin",
     "output_type": "stream",
     "text": [
      "Enter your password:  MAnas@19#$Raj\n"
     ]
    },
    {
     "name": "stdout",
     "output_type": "stream",
     "text": [
      "Valid Password\n"
     ]
    }
   ],
   "source": [
    "result = check_password()\n",
    "print(result)\n"
   ]
  },
  {
   "cell_type": "code",
   "execution_count": null,
   "id": "5aca1931-a5c2-4486-a548-913e0067e1ae",
   "metadata": {},
   "outputs": [],
   "source": [
    "Ques:-2 Solve the below-given questions using at least one of the following in python programming language\n",
    "1. Lambda function\n",
    "2. Filter function\n",
    "3. Zap function\n",
    "4. List Comprehension\n",
    "\n",
    " Check if the string starts with a particular letter.\n",
    " Check if the string is numeric.\n",
    " Sort a list of tuples having fruit names and their quantity. [(\"mango\",99),(\"orange\",80), (\"grapes\", 1000)-\n",
    " Find the squares of numbers from 1 to 10.\n",
    " Find the cube root of numbers from 1 to 10.\n",
    " Check if a given number is even.\n",
    " Filter odd numbers from the given list.\n",
    "[1,2,3,4,5,6,7,8,9,10-\n",
    " Sort a list of integers into positive and negative integers lists.\n",
    "[1,2,3,4,5,6,-1,-2,-3,-4,-5,0]"
   ]
  },
  {
   "cell_type": "code",
   "execution_count": null,
   "id": "af7d9d1d-3cd4-4914-9dca-b85417b61083",
   "metadata": {},
   "outputs": [],
   "source": [
    "Ans:- Here are the solutions to the given questions using the mentioned functions in Python:"
   ]
  },
  {
   "cell_type": "code",
   "execution_count": null,
   "id": "9c6c227c-ecff-4e80-8369-136ab87db35c",
   "metadata": {},
   "outputs": [],
   "source": [
    "1.    Check if the string starts with a particular letter:\n",
    "\n",
    "Using Lambda function and String method:"
   ]
  },
  {
   "cell_type": "code",
   "execution_count": 6,
   "id": "0868b2ec-a20d-4800-8874-485ae1c127cc",
   "metadata": {},
   "outputs": [
    {
     "name": "stdout",
     "output_type": "stream",
     "text": [
      "True\n",
      "False\n"
     ]
    }
   ],
   "source": [
    "starts_with = lambda x, y: True if x.startswith(y) else False\n",
    "print(starts_with(\"hello world\", \"h\"))  # True\n",
    "print(starts_with(\"hello world\", \"w\"))  # False\n"
   ]
  },
  {
   "cell_type": "code",
   "execution_count": null,
   "id": "7fa9370b-2b4a-4450-8011-e9df7400af10",
   "metadata": {},
   "outputs": [],
   "source": [
    "2.    Check if the string is numeric:\n",
    "\n",
    "Using Lambda function and String method"
   ]
  },
  {
   "cell_type": "code",
   "execution_count": 7,
   "id": "5c5f3283-bad4-4e09-b2a0-1d2fd874e18f",
   "metadata": {},
   "outputs": [
    {
     "name": "stdout",
     "output_type": "stream",
     "text": [
      "True\n",
      "False\n"
     ]
    }
   ],
   "source": [
    "is_numeric = lambda x: x.isnumeric()\n",
    "print(is_numeric(\"12345\"))  # True\n",
    "print(is_numeric(\"hello world\"))  # False\n"
   ]
  },
  {
   "cell_type": "code",
   "execution_count": null,
   "id": "09e2395f-335f-47c8-920f-df574f7859de",
   "metadata": {},
   "outputs": [],
   "source": [
    "3. Sort a list of tuples having fruit names and their quantity:\n",
    "\n",
    "Using List Comprehension:\n"
   ]
  },
  {
   "cell_type": "code",
   "execution_count": 8,
   "id": "dc44d35b-7206-4b3d-a901-1a42f16c0dc4",
   "metadata": {},
   "outputs": [
    {
     "name": "stdout",
     "output_type": "stream",
     "text": [
      "[('orange', 80), ('mango', 99), ('grapes', 1000)]\n"
     ]
    }
   ],
   "source": [
    "fruits = [(\"mango\", 99), (\"orange\", 80), (\"grapes\", 1000)]\n",
    "sorted_fruits = sorted(fruits, key=lambda x: x[1])\n",
    "print(sorted_fruits)  # [(\"orange\", 80), (\"mango\", 99), (\"grapes\", 1000)]\n"
   ]
  },
  {
   "cell_type": "code",
   "execution_count": null,
   "id": "fc5006f1-82da-49b8-8d2c-64a01f62cd30",
   "metadata": {},
   "outputs": [],
   "source": [
    "4.    Find the squares of numbers from 1 to 10:\n",
    "\n",
    "Using List Comprehension:\n",
    "\n"
   ]
  },
  {
   "cell_type": "code",
   "execution_count": 9,
   "id": "cdd7b1bf-c5c5-4447-8771-85b5f92de883",
   "metadata": {},
   "outputs": [
    {
     "name": "stdout",
     "output_type": "stream",
     "text": [
      "[1, 4, 9, 16, 25, 36, 49, 64, 81, 100]\n"
     ]
    }
   ],
   "source": [
    "squares = [x ** 2 for x in range(1, 11)]\n",
    "print(squares)  # [1, 4, 9, 16, 25, 36, 49, 64, 81, 100]\n"
   ]
  },
  {
   "cell_type": "code",
   "execution_count": null,
   "id": "b5f16be1-42a0-4343-9d2e-bf72a8c8425e",
   "metadata": {},
   "outputs": [],
   "source": [
    "5.    Find the cube root of numbers from 1 to 10:\n",
    "\n",
    "Using List Comprehension and Math module:"
   ]
  },
  {
   "cell_type": "code",
   "execution_count": 11,
   "id": "453e21f3-c62b-4998-bd10-b448e58a5935",
   "metadata": {},
   "outputs": [
    {
     "name": "stdout",
     "output_type": "stream",
     "text": [
      "[1.0, 1.2599210498948732, 1.4422495703074083, 1.5874010519681994, 1.7099759466766968, 1.8171205928321397, 1.912931182772389, 2.0, 2.080083823051904, 2.154434690031884]\n"
     ]
    }
   ],
   "source": [
    "import math\n",
    "\n",
    "cube_roots = [math.pow(x, 1/3) for x in range(1, 11)]\n",
    "print(cube_roots)  "
   ]
  },
  {
   "cell_type": "code",
   "execution_count": null,
   "id": "50f698af-eaff-49ad-b983-37bfb3764dfa",
   "metadata": {},
   "outputs": [],
   "source": [
    "6.    Check if a given number is even:\n",
    "\n",
    "Using Lambda function and Modulus operator:"
   ]
  },
  {
   "cell_type": "code",
   "execution_count": 12,
   "id": "e481cb5a-30c6-4fae-8877-0186af9b386b",
   "metadata": {},
   "outputs": [
    {
     "name": "stdout",
     "output_type": "stream",
     "text": [
      "True\n",
      "False\n"
     ]
    }
   ],
   "source": [
    "is_even = lambda x: True if x % 2 == 0 else False\n",
    "print(is_even(10))  # True\n",
    "print(is_even(11))  # False\n"
   ]
  },
  {
   "cell_type": "code",
   "execution_count": null,
   "id": "1e0a3501-b271-4335-bd36-71e5b962f34c",
   "metadata": {},
   "outputs": [],
   "source": [
    "7.    Filter odd numbers from the given list: [1,2,3,4,5,6,7,8,9,10]\n",
    "\n",
    "Using Filter function and Lambda function"
   ]
  },
  {
   "cell_type": "code",
   "execution_count": 13,
   "id": "a056c4e1-8cda-4f66-a93e-819b693aece1",
   "metadata": {},
   "outputs": [
    {
     "name": "stdout",
     "output_type": "stream",
     "text": [
      "[1, 3, 5, 7, 9]\n"
     ]
    }
   ],
   "source": [
    "numbers = [1, 2, 3, 4, 5, 6, 7, 8, 9, 10]\n",
    "odd_numbers = list(filter(lambda x: x % 2 != 0, numbers))\n",
    "print(odd_numbers)  # [1, 3, 5, 7, 9]\n"
   ]
  },
  {
   "cell_type": "code",
   "execution_count": null,
   "id": "74fad6e6-b716-4ac2-b0d3-b5824d9de05f",
   "metadata": {},
   "outputs": [],
   "source": [
    "8.    Sort a list of integers into positive and negative integers lists: [1,2,3,4,5,6,-1,-2,-3,-4,-5,0]\n",
    "\n",
    "Using List Comprehension:"
   ]
  },
  {
   "cell_type": "code",
   "execution_count": 14,
   "id": "49aa2f9c-fc4a-428c-9b56-6c5eba8107c1",
   "metadata": {},
   "outputs": [
    {
     "name": "stdout",
     "output_type": "stream",
     "text": [
      "[1, 2, 3, 4, 5, 6]\n"
     ]
    }
   ],
   "source": [
    "numbers = [1, 2, 3, 4, 5, 6, -1, -2, -3, -4, -5, 0]\n",
    "positive_numbers = [x for x in numbers if x > 0]\n",
    "negative_numbers = [x for x in numbers if x < 0]\n",
    "print(positive_numbers)  # [1, 2\n"
   ]
  },
  {
   "cell_type": "code",
   "execution_count": null,
   "id": "cf9aa0d5-80e8-4e96-bf17-de0c9cf7e0a1",
   "metadata": {},
   "outputs": [],
   "source": []
  }
 ],
 "metadata": {
  "kernelspec": {
   "display_name": "Python 3 (ipykernel)",
   "language": "python",
   "name": "python3"
  },
  "language_info": {
   "codemirror_mode": {
    "name": "ipython",
    "version": 3
   },
   "file_extension": ".py",
   "mimetype": "text/x-python",
   "name": "python",
   "nbconvert_exporter": "python",
   "pygments_lexer": "ipython3",
   "version": "3.10.6"
  }
 },
 "nbformat": 4,
 "nbformat_minor": 5
}
