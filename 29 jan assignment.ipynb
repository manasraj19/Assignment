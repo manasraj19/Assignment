{
 "cells": [
  {
   "cell_type": "code",
   "execution_count": null,
   "id": "70ee5576-209f-4b43-ba7b-9db208052d18",
   "metadata": {},
   "outputs": [],
   "source": [
    "Ques:-1 Who developed Python Programming Language?"
   ]
  },
  {
   "cell_type": "code",
   "execution_count": null,
   "id": "dbd818d8-97a9-469e-95c9-586038595a82",
   "metadata": {},
   "outputs": [],
   "source": [
    "Ans:- Python was developed by Guido van Rossum in the late 1980s and early 1990s while working at the\n",
    "National Research Institute for Mathematics and Computer Science in the Netherlands."
   ]
  },
  {
   "cell_type": "code",
   "execution_count": null,
   "id": "f913ab83-01bb-404c-b755-b012ec14123e",
   "metadata": {},
   "outputs": [],
   "source": [
    "Ques:-2 Which type of programming does Python supports?"
   ]
  },
  {
   "cell_type": "code",
   "execution_count": null,
   "id": "4287f975-dbfd-482e-bd9c-8e311627657f",
   "metadata": {},
   "outputs": [],
   "source": [
    "Ans:- Python is a general-purpose programming language that supports multiple programming paradigms, \n",
    "including procedural, object-oriented, and functional programming. It also has support for \n",
    "scripting and automation.\n"
   ]
  },
  {
   "cell_type": "code",
   "execution_count": null,
   "id": "d4032fa0-dee9-49c6-b513-a91264988ccf",
   "metadata": {},
   "outputs": [],
   "source": [
    "Ques:-3 Is Python case sensitive when dealing with identifiers?"
   ]
  },
  {
   "cell_type": "code",
   "execution_count": null,
   "id": "489ec5b8-a00c-4975-8859-a2e61d9edaaa",
   "metadata": {},
   "outputs": [],
   "source": [
    "Ans:- Yes, Python is a case-sensitive language, including when it comes to identifiers such as variable names,\n",
    "function names, and class names. For example, the identifiers \"my_var\", \"My_Var\", and \"MY_VAR\" are all \n",
    "different and would refer to separate entities in Python."
   ]
  },
  {
   "cell_type": "code",
   "execution_count": null,
   "id": "6d73679a-6dbd-40c0-808f-969cdd7bed3d",
   "metadata": {},
   "outputs": [],
   "source": [
    "Ques:-4 What is the correct extension of Python file?"
   ]
  },
  {
   "cell_type": "code",
   "execution_count": null,
   "id": "b074b775-2fc1-448c-b145-6bb03ff1278e",
   "metadata": {},
   "outputs": [],
   "source": [
    "Ans:- The correct extension for a Python file is \".py\". When you save a Python file, you should give it\n",
    "a name followed by the \".py\" extension, such as \"example.py\". This allows other programs and developers\n",
    "to recognize that the file contains Python code."
   ]
  },
  {
   "cell_type": "code",
   "execution_count": null,
   "id": "3a65ee59-876e-466e-a6d3-58f53e1925af",
   "metadata": {},
   "outputs": [],
   "source": [
    "Ques:-5 Is Python code compiled or interpreted?"
   ]
  },
  {
   "cell_type": "code",
   "execution_count": null,
   "id": "4d4ece81-0d4e-42a3-a78b-9990a81d246c",
   "metadata": {},
   "outputs": [],
   "source": [
    "Ans:- Python code is an interpreted language, meaning that the code is not compiled into machine code\n",
    "before it is run. Instead, the Python interpreter reads and executes the code line by line, translating\n",
    "it into machine code on-the-fly. However, Python code can be compiled to bytecode, which can then be\n",
    "executed by the Python interpreter. This compilation process happens automatically when the code is run,\n",
    "and the resulting bytecode is cached for future runs, which can lead to faster execution times."
   ]
  },
  {
   "cell_type": "code",
   "execution_count": null,
   "id": "1b669036-3849-4ab6-9bb9-8a477830a6c3",
   "metadata": {},
   "outputs": [],
   "source": [
    "Ques:-6 Name a few blocks of code used to define in Python Language?\n"
   ]
  },
  {
   "cell_type": "code",
   "execution_count": null,
   "id": "79954820-2ed7-4632-b94d-733cc0c5445b",
   "metadata": {},
   "outputs": [],
   "source": [
    "Ans:- In Python, code blocks are defined using indentation. A block of code is a group of statements that are\n",
    "executed together. Here are a few examples of code blocks in Python:\n",
    "    1. Function definition: A function block is a block of code that defines a function. It starts with the \n",
    "    \"def\" keyword, followed by the function name and a set of parentheses that may contain parameters. \n",
    "    The code inside the function is indented.\n",
    "\n",
    "def my_function(parameter):\n",
    "    # Indented block of code\n",
    "    print(parameter)\n",
    "\n",
    "    2. Conditional statements: Conditional statements such as \"if\", \"else\", and \"elif\" are used to execute\n",
    "    different blocks of code depending on whether a condition is true or false.\n",
    "    \n",
    "if x > 0:\n",
    "    # Indented block of code\n",
    "    print(\"x is positive\")\n",
    "else:\n",
    "    # Indented block of code\n",
    "    print(\"x is not positive\")\n",
    "\n",
    "    3. Loops: Loops such as \"for\" and \"while\" are used to execute a block of code repeatedly.\n",
    "    \n",
    "for i in range(10):\n",
    "    # Indented block of code\n",
    "    print(i)\n",
    "\n",
    "while x < 100:\n",
    "    # Indented block of code\n",
    "    x = x * 2\n",
    "\n",
    "    "
   ]
  },
  {
   "cell_type": "code",
   "execution_count": null,
   "id": "b00624c4-cf97-438c-a168-8b425270eac8",
   "metadata": {},
   "outputs": [],
   "source": [
    "Ques:-7 State a character used to give a single-line comments in Python?"
   ]
  },
  {
   "cell_type": "code",
   "execution_count": null,
   "id": "20f601cb-ea47-41ce-8d47-89bfbda28e10",
   "metadata": {},
   "outputs": [],
   "source": [
    "Ans:- In Python, the hash symbol \"#\" is used to create a single-line comment. Any text on the same line\n",
    "after the \"#\" symbol will be ignored by the Python interpreter. For example:\n",
    "    \n",
    "# This is a single-line comment in Python\n",
    "\n",
    "print(\"Hello, world!\")  # This is another single-line comment\n",
    "\n",
    "     In this code, the two lines starting with \"#\" are comments and will not be executed by Python.\n",
    "     The third line will be executed and will print \"Hello, world!\" to the console.\n"
   ]
  },
  {
   "cell_type": "code",
   "execution_count": null,
   "id": "1c80d7ec-e000-4c5f-aa6e-bc0e194443b3",
   "metadata": {},
   "outputs": [],
   "source": [
    "Ques:-8 Mention functions which can help us to find the version of python that we are currently working on it."
   ]
  },
  {
   "cell_type": "code",
   "execution_count": null,
   "id": "1b2c6583-30c7-4ed4-a692-3fafccd71ba7",
   "metadata": {},
   "outputs": [],
   "source": [
    "Ans:- In Python, there are a few different ways to determine the version of the Python interpreter that you \n",
    "are currently working with. Here are three commonly used methods:\n",
    "    1. sys module: You can use the sys module to access information about the Python interpreter.\n",
    "       The sys.version attribute returns the version of the interpreter as a string.\n",
    "       \n",
    "import sys\n",
    "\n",
    "print(\"Python version:\")\n",
    "print(sys.version)\n",
    "    \n",
    "    2. platform module: The platform module provides a more detailed information about the Python interpreter\n",
    "       version, as well as information about the operating system and hardware. The platform.python_version() \n",
    "       function returns the Python version as a string.\n",
    "\n",
    "import platform\n",
    "\n",
    "print(\"Python version:\")\n",
    "print(platform.python_version())\n",
    "    \n"
   ]
  },
  {
   "cell_type": "code",
   "execution_count": null,
   "id": "53f308c3-5105-4386-b87f-826246929448",
   "metadata": {},
   "outputs": [],
   "source": [
    "Ques:-9 Python supports the creation of anonymous function at runtime, using a construct called............."
   ]
  },
  {
   "cell_type": "code",
   "execution_count": null,
   "id": "3c4ff527-0694-4f86-8819-36f797a6811d",
   "metadata": {},
   "outputs": [],
   "source": [
    "Ans:- Python supports the creation of anonymous functions at runtime using a construct called \"lambda\" functions.\n",
    "Lambda functions are small, anonymous functions that can be defined in a single line of code. They are useful\n",
    "for simple operations that don't require a named function"
   ]
  },
  {
   "cell_type": "code",
   "execution_count": null,
   "id": "63741146-3669-4dee-a6f1-2e1cf9bd5b28",
   "metadata": {},
   "outputs": [],
   "source": [
    "Ques:-10 What does pip stands for in python?"
   ]
  },
  {
   "cell_type": "code",
   "execution_count": null,
   "id": "46c07426-49b8-41b9-a5a0-4dfc42cf72a8",
   "metadata": {},
   "outputs": [],
   "source": [
    "Ans:- In Python, \"pip\" stands for \"Pip Installs Packages\". pip is a package management system used to\n",
    "install and manage software packages written in Python. It is used to download and install packages \n",
    "from the Python Package Index (PyPI), a repository of third-party Python libraries.\n",
    "\n",
    "    With pip, you can install packages and their dependencies with a single command, as well as manage\n",
    "    packages by upgrading, downgrading, or removing them. It is a powerful tool for managing Python packages\n",
    "    and is widely used by Python developers to simplify the process of working with external libraries and \n",
    "    packages.\n"
   ]
  },
  {
   "cell_type": "code",
   "execution_count": null,
   "id": "f5d26119-7b55-41c4-bc03-816e90d15ba8",
   "metadata": {},
   "outputs": [],
   "source": [
    "Ques:-11 Mention a few built-in functions in python."
   ]
  },
  {
   "cell_type": "code",
   "execution_count": null,
   "id": "8ac5a76b-2831-4fb2-be4e-d7f0f7d13250",
   "metadata": {},
   "outputs": [],
   "source": [
    "Ans:- Python has a large number of built-in functions that are available for use without the need for\n",
    "importing any modules. Here are a few examples of some commonly used built-in functions in Python:\n",
    "    \n",
    "    1. print(): This function is used to display output to the console. It takes one or more arguments\n",
    "       and prints them to the console.\n",
    "    2. len(): This function is used to find the length of a sequence, such as a string, list, or tuple.\n",
    "       It takes one argument and returns the length of the sequence.\n",
    "    3. input(): This function is used to get input from the user. It takes an optional prompt string as\n",
    "       an argument and returns the user's input as a string.    \n",
    "    4. range(): This function is used to generate a sequence of numbers. It takes one to three arguments\n",
    "       and returns a sequence of numbers from start to stop, incremented by step. \n",
    "    5. type(): This function is used to get the type of an object. It takes one argument and returns the\n",
    "       type of the object as a string.    "
   ]
  },
  {
   "cell_type": "code",
   "execution_count": null,
   "id": "d878093c-2b31-46d6-803a-7cc5a4bb3a89",
   "metadata": {},
   "outputs": [],
   "source": [
    "Ques:-12 What is the maximum possible length of an identifier in python?"
   ]
  },
  {
   "cell_type": "code",
   "execution_count": null,
   "id": "836613e4-a368-4332-8305-faf80dc18bd4",
   "metadata": {},
   "outputs": [],
   "source": [
    "Ans:- In Python, the maximum length of an identifier is technically unlimited. However, it is recommended \n",
    "to keep identifiers to a reasonable length for the sake of readability and maintainability of the code.\n",
    "\n",
    "    PEP 8, the official Python style guide, recommends that identifiers be \"reasonably descriptive\" and\n",
    "    \"not too long\". The guide suggests using lowercase letters for variable and function names, and\n",
    "    using underscores to separate words in multi-word identifiers.\n",
    "    \n",
    "    In practice, it is rare for an identifier to exceed a length of 79 characters. This is because this\n",
    "    is the suggested line length limit for Python code as specified in PEP 8. However, there is technically\n",
    "    no limit on the length of an identifier in Python, other than the practical considerations of readability\n",
    "    and maintainability of the code."
   ]
  },
  {
   "cell_type": "code",
   "execution_count": null,
   "id": "e7acdbb2-0d31-4132-923d-e32af6910021",
   "metadata": {},
   "outputs": [],
   "source": [
    "Ques:-13 What are the benefits of using python?\n"
   ]
  },
  {
   "cell_type": "code",
   "execution_count": null,
   "id": "de712f88-ee8a-409a-b53d-34eceb7b2b0f",
   "metadata": {},
   "outputs": [],
   "source": [
    "Ans:- Python has many benefits that make it a popular choice for software development, data analysis, \n",
    "scientific computing, and many other areas. Here are some of the key benefits of using Python:\n",
    "    \n",
    "    1.Easy to Learn: Python has a simple and easy-to-understand syntax that makes it easy for beginners to learn.\n",
    "      The language is designed to be easy to read and write, with a minimal amount of syntax and special characters.\n",
    "        \n",
    "    2.Large Standard Library: Python comes with a large standard library that provides many useful modules and \n",
    "      functions for a wide range of tasks, such as data processing, networking, web development, and more.\n",
    "        This makes it easy to perform complex tasks without having to write a lot of custom code. \n",
    "        \n",
    "    3. Open Source: Python is an open-source language, which means it is free to use and distribute,\n",
    "    and the source code is available to anyone to view and modify. This has led to a large and active\n",
    "    community of Python developers who contribute to the language and its ecosystem. "
   ]
  },
  {
   "cell_type": "code",
   "execution_count": null,
   "id": "3082b3b2-07da-4097-b932-43c7a8ebb34a",
   "metadata": {},
   "outputs": [],
   "source": [
    "Ques:-14 How is memory managed in python?"
   ]
  },
  {
   "cell_type": "code",
   "execution_count": null,
   "id": "6945c33e-b271-499f-a6ae-43e7f486e7ce",
   "metadata": {},
   "outputs": [],
   "source": [
    "Ans:- Memory management in Python is handled automatically by the Python runtime using a technique called\n",
    "\"garbage collection\". This means that the programmer does not need to manually allocate or deallocate memory\n",
    "as they would in languages like C or C++.\n",
    "\n",
    "    In Python, objects are created dynamically and stored in memory. When an object is no longer needed,\n",
    "    the Python runtime automatically detects it and frees up the memory occupied by the object. This is\n",
    "    done using a technique called \"reference counting\", which keeps track of the number of references to\n",
    "    an object. When the number of references to an object reaches zero, the object is considered to be no\n",
    "    longer needed and its memory is freed.\n",
    "    \n",
    "    Pythons memory management system is designed to be efficient and robust, and it allows Python programs\n",
    "    to handle large amounts of data without the need for manual memory management. However, it is still \n",
    "    possible for Python programs to have memory leaks or other memory-related issues if they are not \n",
    "    written carefully, so it is important for developers to be aware of how memory is managed in Python\n",
    "    and how to write memory-efficient code."
   ]
  },
  {
   "cell_type": "code",
   "execution_count": null,
   "id": "b14d4997-9acf-4400-8167-853598de0993",
   "metadata": {},
   "outputs": [],
   "source": [
    "Ques:-15 How to install python on windows and set path variables?"
   ]
  },
  {
   "cell_type": "code",
   "execution_count": null,
   "id": "a38aa209-f049-4202-bd23-a4179265b9c9",
   "metadata": {},
   "outputs": [],
   "source": [
    "Ans:- Here are the steps to install Python on Windows and set path variables:\n",
    "    \n",
    "    1. Download the Python installer: Go to the official Python website (python.org) and download the\n",
    "       latest version of Python for Windows.\n",
    "    2. Run the installer: Double-click the downloaded installer file to start the installation process.\n",
    "       Follow the prompts to complete the installation.\n",
    "    3. Set path variables: After installing Python, you need to add its installation directory to your \n",
    "       systems PATH environment variable so that you can run Python from the command line. Here's how to do it:\n",
    "        a. Open the Start menu and search for \"Environment Variables\".\n",
    "        b. Click \"Edit the system environment variables\".\n",
    "        c. In the System Properties window, click the \"Environment Variables\" button.\n",
    "        d. In the Environment Variables window, under \"System variables\", find the \"Path\" variable and click \"Edit\".\n",
    "        e. Click \"New\" and add the path to your Python installation directory. For example, if you installed Python\n",
    "        to the default location, the path should be \"C:\\Python39\".\n",
    "        f. Click \"OK\" to close all the windows and save the changes.\n",
    "    4.  Test the installation: To test if Python is installed correctly and the path variables are set up correctly,\n",
    "        open a command prompt and type \"python\". This should open the Python interpreter, showing the version and a\n",
    "        prompt that looks like \">>>\". You can then type in Python commands and see the results.\n",
    "\n"
   ]
  },
  {
   "cell_type": "code",
   "execution_count": null,
   "id": "b2231309-3a4b-4ea2-a17e-38f087854482",
   "metadata": {},
   "outputs": [],
   "source": [
    "Ques:-16 Is indentation required in python? "
   ]
  },
  {
   "cell_type": "code",
   "execution_count": null,
   "id": "46d804b7-eef4-440c-9533-7f97a79457a7",
   "metadata": {},
   "outputs": [],
   "source": [
    "Ans:- Yes, indentation is required in Python. It is used to define the structure of the code, such as the scope\n",
    "of loops, functions, and conditional statements. In Python, indentation is used instead of curly braces or other\n",
    "symbols to define blocks of code. It is recommended to use 4 spaces for each level of indentation.\n"
   ]
  }
 ],
 "metadata": {
  "kernelspec": {
   "display_name": "Python 3 (ipykernel)",
   "language": "python",
   "name": "python3"
  },
  "language_info": {
   "codemirror_mode": {
    "name": "ipython",
    "version": 3
   },
   "file_extension": ".py",
   "mimetype": "text/x-python",
   "name": "python",
   "nbconvert_exporter": "python",
   "pygments_lexer": "ipython3",
   "version": "3.10.6"
  }
 },
 "nbformat": 4,
 "nbformat_minor": 5
}
