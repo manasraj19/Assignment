{
 "cells": [
  {
   "cell_type": "code",
   "execution_count": null,
   "id": "14b10d20-9e6c-43d2-859a-7e92e2454f30",
   "metadata": {},
   "outputs": [],
   "source": [
    "Ques:-1 Create a python program to sort the given list of tuples based on integer value using a\n",
    "lambda function."
   ]
  },
  {
   "cell_type": "code",
   "execution_count": null,
   "id": "b048dbd9-ffec-4fcd-8007-77e7d1e11738",
   "metadata": {},
   "outputs": [],
   "source": [
    "Ans:- Python program that sorts a list of tuples based on the integer value of each tuple using a\n",
    "lambda function:"
   ]
  },
  {
   "cell_type": "code",
   "execution_count": 2,
   "id": "e62e177d-4a72-4e6f-a6f4-2db55c60d76e",
   "metadata": {},
   "outputs": [
    {
     "name": "stdout",
     "output_type": "stream",
     "text": [
      "[('Virat Kohli', 24936), ('Jack Kallis', 25534), ('Ricky Ponting', 27483), ('Sachin Tendulkar', 34357)]\n"
     ]
    }
   ],
   "source": [
    "# Define the list of tuples\n",
    "my_list = [('Sachin Tendulkar', 34357), ('Ricky Ponting', 27483), ('Jack Kallis', 25534), ('Virat Kohli', 24936)]\n",
    "\n",
    "# Use a lambda function to sort the list based on the second element of each tuple\n",
    "my_list.sort(key=lambda x: x[1])\n",
    "\n",
    "# Print the sorted list\n",
    "print(my_list)\n"
   ]
  },
  {
   "cell_type": "code",
   "execution_count": null,
   "id": "d35e65f1-52e9-43ce-be04-6f8b4ac4848d",
   "metadata": {},
   "outputs": [],
   "source": [
    "Ques:-2 Write a Python Program to find the squares of all the numbers in the given list of integers using\n",
    "lambda and map functions.\n",
    "[1, 2, 3, 4, 5, 6, 7, 8, 9, 10]"
   ]
  },
  {
   "cell_type": "code",
   "execution_count": 4,
   "id": "d1c307a1-5033-49db-8869-0abbf5deff52",
   "metadata": {},
   "outputs": [
    {
     "data": {
      "text/plain": [
       "[1, 4, 9, 16, 25, 36, 49, 64, 81, 100]"
      ]
     },
     "execution_count": 4,
     "metadata": {},
     "output_type": "execute_result"
    }
   ],
   "source": [
    "l = [1, 2, 3, 4, 5, 6, 7, 8, 9, 10]\n",
    "\n",
    "def sq(x):\n",
    "    return x**2\n",
    "    \n",
    "list(map(lambda x : x**2, l))   "
   ]
  },
  {
   "cell_type": "code",
   "execution_count": null,
   "id": "dc8da7a4-2fb6-4235-b3d2-cd8cbc145933",
   "metadata": {},
   "outputs": [],
   "source": [
    "Ques:-3 Write a python program to convert the given list of integers into a tuple of strings. Use map and\n",
    "lambda functions\n",
    "Given String: [1, 2, 3, 4, 5, 6, 7, 8, 9, 10]\n",
    "Expected output: ('1', '2', '3', '4', '5', '6', '7', '8', '9', '10')"
   ]
  },
  {
   "cell_type": "code",
   "execution_count": null,
   "id": "8d97a756-5334-4cae-9894-0bb0cd60484a",
   "metadata": {},
   "outputs": [],
   "source": [
    "Ans:- Python program that converts a list of integers into a tuple of strings using map() and a lambda function:"
   ]
  },
  {
   "cell_type": "code",
   "execution_count": 5,
   "id": "a217d11b-c8f1-4622-b26d-1400be64ab74",
   "metadata": {},
   "outputs": [
    {
     "name": "stdout",
     "output_type": "stream",
     "text": [
      "('1', '2', '3', '4', '5', '6', '7', '8', '9', '10')\n"
     ]
    }
   ],
   "source": [
    "my_list = [1, 2, 3, 4, 5, 6, 7, 8, 9, 10]\n",
    "\n",
    "my_tuple = tuple(map(lambda x : str(x) , my_list))\n",
    "\n",
    "print(my_tuple)"
   ]
  },
  {
   "cell_type": "code",
   "execution_count": null,
   "id": "1c28bdf6-d6af-42a4-8186-3eb3fa0cd768",
   "metadata": {},
   "outputs": [],
   "source": [
    "Ques:-4 Write a python program using reduce function to compute the product of a list containing numbers\n",
    "from 1 to 25."
   ]
  },
  {
   "cell_type": "code",
   "execution_count": null,
   "id": "7dbe494f-663b-4737-ac85-4cfaa2ce92fb",
   "metadata": {},
   "outputs": [],
   "source": [
    "Ans:- Python program that uses the reduce() function from the functools module to compute the product of a list of numbers from 1 to 25:"
   ]
  },
  {
   "cell_type": "code",
   "execution_count": 6,
   "id": "c6c5b461-70ba-47f0-9b23-178fc8f17e2b",
   "metadata": {},
   "outputs": [
    {
     "name": "stdout",
     "output_type": "stream",
     "text": [
      "15511210043330985984000000\n"
     ]
    }
   ],
   "source": [
    "from functools import reduce\n",
    "\n",
    "my_list = list(range(1,26))\n",
    "    \n",
    "product_list = reduce(lambda x,y : x*y, my_list) \n",
    "\n",
    "\n",
    "print(product_list)"
   ]
  },
  {
   "cell_type": "code",
   "execution_count": null,
   "id": "fe861d43-dc4a-4fa8-9cb7-6c391cf4c086",
   "metadata": {},
   "outputs": [],
   "source": [
    "Ques:-5 Write a python program to filter the numbers in a given list that are divisible by 2 and 3 using the\n",
    "filter function.\n",
    "[2, 3, 6, 9, 27, 60, 90, 120, 55, 46]"
   ]
  },
  {
   "cell_type": "code",
   "execution_count": null,
   "id": "34edbd66-7692-492b-8636-a48b948d1e1c",
   "metadata": {},
   "outputs": [],
   "source": [
    "Ans:- Python program that uses the filter() function to filter the numbers in a list that are divisible by both 2 and 3:"
   ]
  },
  {
   "cell_type": "code",
   "execution_count": 9,
   "id": "7f2f39fe-7f37-4083-9ee3-a759ef4b675a",
   "metadata": {},
   "outputs": [
    {
     "name": "stdout",
     "output_type": "stream",
     "text": [
      "[6, 60, 90, 120]\n"
     ]
    }
   ],
   "source": [
    "my_list = [2, 3, 6, 9, 27, 60, 90, 120, 55, 46]\n",
    "\n",
    "filtered_list = list(filter(lambda x : x%2 == 0 and x%3 == 0 , my_list))\n",
    "\n",
    "print(filtered_list)"
   ]
  },
  {
   "cell_type": "code",
   "execution_count": null,
   "id": "e34726f4-f15e-43f8-8f58-d2253b1a1574",
   "metadata": {},
   "outputs": [],
   "source": [
    "Ques:-6 Write a python program to find palindromes in the given list of strings using lambda and filter\n",
    "function.\n",
    "['python', 'php', 'aba', 'radar', 'level']"
   ]
  },
  {
   "cell_type": "code",
   "execution_count": null,
   "id": "918e24a1-4a1c-4119-ba7d-f51fa29a597d",
   "metadata": {},
   "outputs": [],
   "source": [
    "Ans:- Python program that uses the filter() function with a lambda function to find the palindromes in a list of strings:"
   ]
  },
  {
   "cell_type": "code",
   "execution_count": 10,
   "id": "5b46c6d4-3805-4a7a-9860-d9e6fad45cdd",
   "metadata": {},
   "outputs": [
    {
     "name": "stdout",
     "output_type": "stream",
     "text": [
      "['php', 'aba', 'radar', 'level']\n"
     ]
    }
   ],
   "source": [
    "my_list = ['python', 'php', 'aba', 'radar', 'level']\n",
    "\n",
    "palindromes = list(filter(lambda x : x == x[::-1], my_list))\n",
    "\n",
    "print(palindromes)"
   ]
  },
  {
   "cell_type": "code",
   "execution_count": null,
   "id": "6b31bf33-a65a-4f9c-8533-02239baf7318",
   "metadata": {},
   "outputs": [],
   "source": []
  }
 ],
 "metadata": {
  "kernelspec": {
   "display_name": "Python 3 (ipykernel)",
   "language": "python",
   "name": "python3"
  },
  "language_info": {
   "codemirror_mode": {
    "name": "ipython",
    "version": 3
   },
   "file_extension": ".py",
   "mimetype": "text/x-python",
   "name": "python",
   "nbconvert_exporter": "python",
   "pygments_lexer": "ipython3",
   "version": "3.10.6"
  }
 },
 "nbformat": 4,
 "nbformat_minor": 5
}
